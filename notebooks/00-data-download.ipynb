{
 "cells": [
  {
   "cell_type": "code",
   "execution_count": 1,
   "metadata": {
    "tags": []
   },
   "outputs": [],
   "source": [
    "import pandas as pd"
   ]
  },
  {
   "cell_type": "code",
   "execution_count": 2,
   "metadata": {
    "tags": []
   },
   "outputs": [],
   "source": [
    "# ler conjunto de dados do repositório remoto\n",
    "df = pd.read_csv('https://raw.githubusercontent.com/atlantico-academy/datasets/refs/heads/main/mpg.csv')\n",
    "# salvar conjunto de dados na pasta raw\n",
    "df = df.to_csv('../data/raw/data.csv', index=False)"
   ]
  },
  {
   "cell_type": "code",
   "execution_count": 3,
   "metadata": {
    "tags": []
   },
   "outputs": [],
   "source": [
    "# Criar dicionário de dados\n",
    "data_dictionary = pd.DataFrame([\n",
    "    {\n",
    "        'variavel': 'mpg',\n",
    "        'descricao': 'Consumo de combustível (MPG = Milhas por galão)',\n",
    "        'tipo': 'quantitativa',\n",
    "        'subtipo': 'discreta',\n",
    "    },\n",
    "    {\n",
    "        'variavel': 'cylinders',\n",
    "        'descricao': 'Número de cilindros do motor.',\n",
    "        'tipo': 'quantitativa',\n",
    "        'subtipo': 'discreta'\n",
    "    },\n",
    "    {\n",
    "        'variavel': 'displacement',\n",
    "        'descricao': 'Volume deslocado pelo motor em polegadas cúbicas.',\n",
    "        'tipo': 'quantitativa',\n",
    "        'subtipo': 'contínua'\n",
    "    },\n",
    "    {\n",
    "        'variavel': 'horsepower',\n",
    "        'descricao': 'Potência do motor medida em cavalos de força (hp).',\n",
    "        'tipo': 'quantitativa',\n",
    "        'subtipo': 'contínua'\n",
    "    },\n",
    "    {\n",
    "        'variavel': 'weight',\n",
    "        'descricao': 'Peso do veículo em libras.',\n",
    "        'tipo': 'quantitativa',\n",
    "        'subtipo': 'contínua'\n",
    "    },\n",
    "    {\n",
    "        'variavel': 'acceleration',\n",
    "        'descricao': 'Tempo em segundos que o veículo leva para ir de 0 a 60 mph.',\n",
    "        'tipo': 'quantitativa',\n",
    "        'subtipo': 'contínua'\n",
    "    },\n",
    "    {\n",
    "        'variavel': 'model_year',\n",
    "        'descricao': 'Ano de fabricação do modelo.',\n",
    "        'tipo': 'qualitativa',\n",
    "        'subtipo': 'ordinal'\n",
    "    },\n",
    "    {\n",
    "        'variavel': 'origin',\n",
    "        'descricao': 'Origem do veículo (1: EUA, 2: Europa, 3: Japão).',\n",
    "        'tipo': 'qualitativa',\n",
    "        'subtipo': 'nominal'\n",
    "    },\n",
    "    {\n",
    "        'variavel': 'name',\n",
    "        'descricao': 'Nome completo do modelo do veículo.',\n",
    "        'tipo': 'qualitativa',\n",
    "        'subtipo': 'nominal'\n",
    "    }\n",
    "\n",
    "])\n",
    "# Salvar dicionário de dados\n",
    "data_dictionary.to_csv(\"../data/external/dictionary.csv\", index=False)"
   ]
  }
 ],
 "metadata": {
  "kernelspec": {
   "display_name": "Python 3 (ipykernel)",
   "language": "python",
   "name": "python3"
  },
  "language_info": {
   "codemirror_mode": {
    "name": "ipython",
    "version": 3
   },
   "file_extension": ".py",
   "mimetype": "text/x-python",
   "name": "python",
   "nbconvert_exporter": "python",
   "pygments_lexer": "ipython3",
   "version": "3.10.10"
  }
 },
 "nbformat": 4,
 "nbformat_minor": 4
}
